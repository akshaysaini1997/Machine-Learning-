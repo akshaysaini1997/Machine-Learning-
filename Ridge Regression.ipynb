{
 "cells": [
  {
   "cell_type": "code",
   "execution_count": 1,
   "id": "580ce8f0",
   "metadata": {},
   "outputs": [],
   "source": [
    "#multilinearirity ( high coorelation between predictor variables) and overfitting. ==> Ridge Regression"
   ]
  },
  {
   "cell_type": "code",
   "execution_count": 3,
   "id": "d5f1774c",
   "metadata": {},
   "outputs": [],
   "source": [
    "import numpy as np"
   ]
  },
  {
   "cell_type": "code",
   "execution_count": 4,
   "id": "0eaa1c8d",
   "metadata": {},
   "outputs": [],
   "source": [
    "np.random.seed(42)\n",
    "x= np.random.rand(100,5)\n",
    "y = 2*x[:,0] + 3*x[: , 2] - 5*x[: , 2] + np.random.rand(100)"
   ]
  },
  {
   "cell_type": "code",
   "execution_count": 5,
   "id": "86a9c840",
   "metadata": {},
   "outputs": [
    {
     "data": {
      "text/plain": [
       "array([-0.01674593, -0.88426688, -1.31418868,  0.13109118,  1.32414766,\n",
       "        0.70449999,  1.9959137 ,  2.24398771,  1.12509934,  1.01062803,\n",
       "        0.67358657,  1.87002578,  0.05260804,  0.34706209,  1.57866397,\n",
       "        1.33629201,  1.44087417,  0.18580503, -0.29510548,  0.28292605,\n",
       "        0.02827712, -0.63162696, -0.309978  ,  2.21189999,  1.81720207,\n",
       "       -0.39855243,  1.00991077, -0.48622498,  0.98677307, -0.06686178,\n",
       "        2.33964304, -0.03941101,  0.46514368,  1.85299968,  1.09993002,\n",
       "        0.5200279 , -0.31760714,  0.45691457, -1.16408644, -0.96664196,\n",
       "        1.91485689, -0.7024348 ,  0.02218787, -0.34678395,  1.74600449,\n",
       "        0.05994656,  0.54937243,  2.06784549,  0.57149609,  0.69564588,\n",
       "       -0.59321206,  0.57372443,  1.50175326,  0.63750704,  0.76123128,\n",
       "        0.10658759,  1.16286001, -0.98462205, -0.82906337,  1.23315402,\n",
       "       -0.27382703,  1.51875537,  0.96361283,  1.05990444,  0.12864613,\n",
       "        0.84227003,  1.07540243, -0.88838319,  1.5409867 ,  1.48934764,\n",
       "        0.20287474,  0.89694041,  0.25637685, -0.41640931,  0.87503379,\n",
       "        1.54092801, -0.87448256,  2.1786704 ,  1.72909041,  1.26177098,\n",
       "       -0.34512125,  2.74940373, -0.76996892,  0.56831356,  2.03414674,\n",
       "       -0.43620498, -0.87458943, -0.11290213, -0.45082032,  0.53964348,\n",
       "        0.84467699,  0.68880367, -1.07515718, -0.64178981,  0.83477754,\n",
       "        1.35218266,  1.01727289,  1.41270951,  0.54884016,  0.5921038 ])"
      ]
     },
     "execution_count": 5,
     "metadata": {},
     "output_type": "execute_result"
    }
   ],
   "source": [
    "y"
   ]
  },
  {
   "cell_type": "code",
   "execution_count": 6,
   "id": "72c913a2",
   "metadata": {},
   "outputs": [
    {
     "data": {
      "text/plain": [
       "(100, 5)"
      ]
     },
     "execution_count": 6,
     "metadata": {},
     "output_type": "execute_result"
    }
   ],
   "source": [
    "x.shape"
   ]
  },
  {
   "cell_type": "code",
   "execution_count": 7,
   "id": "5b59908f",
   "metadata": {},
   "outputs": [
    {
     "data": {
      "text/plain": [
       "(100,)"
      ]
     },
     "execution_count": 7,
     "metadata": {},
     "output_type": "execute_result"
    }
   ],
   "source": [
    "y.shape"
   ]
  },
  {
   "cell_type": "code",
   "execution_count": 9,
   "id": "5891e1f9",
   "metadata": {},
   "outputs": [],
   "source": [
    "from sklearn.model_selection import train_test_split"
   ]
  },
  {
   "cell_type": "code",
   "execution_count": 15,
   "id": "ba13be1c",
   "metadata": {},
   "outputs": [],
   "source": [
    "x_train, x_test, y_train, y_test = train_test_split(x,y , test_size = 0.2 , random_state  = 42)"
   ]
  },
  {
   "cell_type": "code",
   "execution_count": 16,
   "id": "d0804de9",
   "metadata": {},
   "outputs": [
    {
     "data": {
      "text/plain": [
       "(80, 5)"
      ]
     },
     "execution_count": 16,
     "metadata": {},
     "output_type": "execute_result"
    }
   ],
   "source": [
    "x_train.shape"
   ]
  },
  {
   "cell_type": "code",
   "execution_count": 17,
   "id": "69e4ffc9",
   "metadata": {},
   "outputs": [
    {
     "data": {
      "text/plain": [
       "(20, 5)"
      ]
     },
     "execution_count": 17,
     "metadata": {},
     "output_type": "execute_result"
    }
   ],
   "source": [
    "x_test.shape"
   ]
  },
  {
   "cell_type": "code",
   "execution_count": 18,
   "id": "b648095a",
   "metadata": {},
   "outputs": [
    {
     "data": {
      "text/plain": [
       "(80,)"
      ]
     },
     "execution_count": 18,
     "metadata": {},
     "output_type": "execute_result"
    }
   ],
   "source": [
    "y_train.shape"
   ]
  },
  {
   "cell_type": "code",
   "execution_count": 19,
   "id": "e1f59c07",
   "metadata": {},
   "outputs": [
    {
     "data": {
      "text/plain": [
       "(20,)"
      ]
     },
     "execution_count": 19,
     "metadata": {},
     "output_type": "execute_result"
    }
   ],
   "source": [
    "y_test.shape"
   ]
  },
  {
   "cell_type": "code",
   "execution_count": 20,
   "id": "ad53e96a",
   "metadata": {},
   "outputs": [],
   "source": [
    "from sklearn.preprocessing import StandardScaler"
   ]
  },
  {
   "cell_type": "code",
   "execution_count": 21,
   "id": "65334fd7",
   "metadata": {},
   "outputs": [],
   "source": [
    "sc = StandardScaler()"
   ]
  },
  {
   "cell_type": "code",
   "execution_count": 22,
   "id": "84dde667",
   "metadata": {},
   "outputs": [],
   "source": [
    "x_train_scaled = sc.fit_transform(x_train)"
   ]
  },
  {
   "cell_type": "code",
   "execution_count": 23,
   "id": "c5f730ae",
   "metadata": {},
   "outputs": [],
   "source": [
    "x_test_scaled = sc.transform(x_test)"
   ]
  },
  {
   "cell_type": "code",
   "execution_count": 24,
   "id": "f307856d",
   "metadata": {},
   "outputs": [],
   "source": [
    "from sklearn.linear_model import Ridge"
   ]
  },
  {
   "cell_type": "code",
   "execution_count": 25,
   "id": "7797d83d",
   "metadata": {},
   "outputs": [],
   "source": [
    "ridge = Ridge(alpha = 1 )  # alpha = regularization parameter (lambda)"
   ]
  },
  {
   "cell_type": "code",
   "execution_count": 26,
   "id": "a868a70b",
   "metadata": {},
   "outputs": [
    {
     "data": {
      "text/plain": [
       "Ridge(alpha=1)"
      ]
     },
     "execution_count": 26,
     "metadata": {},
     "output_type": "execute_result"
    }
   ],
   "source": [
    "ridge.fit(x_train_scaled, y_train)"
   ]
  },
  {
   "cell_type": "code",
   "execution_count": 27,
   "id": "24a27d97",
   "metadata": {},
   "outputs": [],
   "source": [
    "y_pred = ridge.predict(x_test_scaled)"
   ]
  },
  {
   "cell_type": "code",
   "execution_count": 28,
   "id": "3467046b",
   "metadata": {},
   "outputs": [],
   "source": [
    "from sklearn.metrics import mean_squared_error"
   ]
  },
  {
   "cell_type": "code",
   "execution_count": 29,
   "id": "3d9e5dbe",
   "metadata": {},
   "outputs": [],
   "source": [
    "mse = mean_squared_error(y_test , y_pred)"
   ]
  },
  {
   "cell_type": "code",
   "execution_count": 30,
   "id": "fa085863",
   "metadata": {},
   "outputs": [
    {
     "name": "stdout",
     "output_type": "stream",
     "text": [
      "MSE: 0.12443429697001991\n"
     ]
    }
   ],
   "source": [
    "print('MSE:'  , mse)"
   ]
  },
  {
   "cell_type": "code",
   "execution_count": 31,
   "id": "58ba6e02",
   "metadata": {},
   "outputs": [
    {
     "name": "stdout",
     "output_type": "stream",
     "text": [
      "ridge coefficient is : [ 0.53229763 -0.02408977 -0.58707572  0.11094369 -0.05919802]\n"
     ]
    }
   ],
   "source": [
    "print(\"ridge coefficient is :\" , ridge.coef_)"
   ]
  },
  {
   "cell_type": "code",
   "execution_count": 32,
   "id": "4da9dcb4",
   "metadata": {},
   "outputs": [
    {
     "name": "stdout",
     "output_type": "stream",
     "text": [
      "Ridge intercept is : 0.5839429893268016\n"
     ]
    }
   ],
   "source": [
    "print(\"Ridge intercept is :\" , ridge.intercept_)"
   ]
  },
  {
   "cell_type": "code",
   "execution_count": null,
   "id": "64af01b4",
   "metadata": {},
   "outputs": [],
   "source": [
    "\n"
   ]
  },
  {
   "cell_type": "markdown",
   "id": "79fe920a",
   "metadata": {},
   "source": [
    "# how to find value of alpha ?\n",
    "\n",
    "by GRIDSEARCHCV"
   ]
  },
  {
   "cell_type": "code",
   "execution_count": 33,
   "id": "012e84c1",
   "metadata": {},
   "outputs": [],
   "source": [
    "from sklearn.model_selection import GridSearchCV"
   ]
  },
  {
   "cell_type": "code",
   "execution_count": 34,
   "id": "44837519",
   "metadata": {},
   "outputs": [],
   "source": [
    "alphas = [0.1 , 1.0 ,10.0]"
   ]
  },
  {
   "cell_type": "code",
   "execution_count": 35,
   "id": "e22d6d61",
   "metadata": {},
   "outputs": [],
   "source": [
    "ridge = Ridge()"
   ]
  },
  {
   "cell_type": "code",
   "execution_count": 36,
   "id": "5f231645",
   "metadata": {},
   "outputs": [],
   "source": [
    "grid = GridSearchCV(ridge , param_grid = {'alpha' : alphas} , cv=5)"
   ]
  },
  {
   "cell_type": "code",
   "execution_count": 37,
   "id": "5770bac0",
   "metadata": {},
   "outputs": [
    {
     "data": {
      "text/plain": [
       "GridSearchCV(cv=5, estimator=Ridge(), param_grid={'alpha': [0.1, 1.0, 10.0]})"
      ]
     },
     "execution_count": 37,
     "metadata": {},
     "output_type": "execute_result"
    }
   ],
   "source": [
    "grid"
   ]
  },
  {
   "cell_type": "code",
   "execution_count": 38,
   "id": "c03385ee",
   "metadata": {},
   "outputs": [
    {
     "data": {
      "text/plain": [
       "GridSearchCV(cv=5, estimator=Ridge(), param_grid={'alpha': [0.1, 1.0, 10.0]})"
      ]
     },
     "execution_count": 38,
     "metadata": {},
     "output_type": "execute_result"
    }
   ],
   "source": [
    "grid.fit(x_train_scaled , y_train)"
   ]
  },
  {
   "cell_type": "code",
   "execution_count": 39,
   "id": "fbc08c08",
   "metadata": {},
   "outputs": [],
   "source": [
    "best_alphas = grid.best_params_['alpha']"
   ]
  },
  {
   "cell_type": "code",
   "execution_count": 40,
   "id": "88a8a748",
   "metadata": {},
   "outputs": [
    {
     "data": {
      "text/plain": [
       "1.0"
      ]
     },
     "execution_count": 40,
     "metadata": {},
     "output_type": "execute_result"
    }
   ],
   "source": [
    "best_alphas"
   ]
  },
  {
   "cell_type": "code",
   "execution_count": null,
   "id": "f16d2154",
   "metadata": {},
   "outputs": [],
   "source": []
  },
  {
   "cell_type": "code",
   "execution_count": null,
   "id": "2aac969d",
   "metadata": {},
   "outputs": [],
   "source": []
  },
  {
   "cell_type": "markdown",
   "id": "07def354",
   "metadata": {},
   "source": [
    "# method - 2 , for finding alpha "
   ]
  },
  {
   "cell_type": "markdown",
   "id": "c3b6cb05",
   "metadata": {},
   "source": [
    "# cross_val_score  ==> average performance"
   ]
  },
  {
   "cell_type": "code",
   "execution_count": 41,
   "id": "8cf47d9c",
   "metadata": {},
   "outputs": [],
   "source": [
    "from sklearn.model_selection import cross_val_score"
   ]
  },
  {
   "cell_type": "code",
   "execution_count": 42,
   "id": "c6ed7216",
   "metadata": {},
   "outputs": [
    {
     "data": {
      "text/plain": [
       "[0.1, 1.0, 10.0]"
      ]
     },
     "execution_count": 42,
     "metadata": {},
     "output_type": "execute_result"
    }
   ],
   "source": [
    "alphas"
   ]
  },
  {
   "cell_type": "code",
   "execution_count": 43,
   "id": "36d0d53f",
   "metadata": {},
   "outputs": [],
   "source": [
    "ridge = Ridge()"
   ]
  },
  {
   "cell_type": "code",
   "execution_count": 45,
   "id": "11507c67",
   "metadata": {},
   "outputs": [],
   "source": [
    "mse_scores = []\n",
    "for alpha in alphas:\n",
    "    ridge.alpha = alpha \n",
    "    scores = cross_val_score(ridge, x_train_scaled , y_train , cv = 5 , scoring = 'neg_mean_squared_error')\n",
    "    mse_scores.append(np.mean(-scores))\n",
    "best_alpha = alphas[np.argmin(mse_scores)]\n",
    "    "
   ]
  },
  {
   "cell_type": "code",
   "execution_count": 46,
   "id": "f7353b64",
   "metadata": {},
   "outputs": [
    {
     "data": {
      "text/plain": [
       "1.0"
      ]
     },
     "execution_count": 46,
     "metadata": {},
     "output_type": "execute_result"
    }
   ],
   "source": [
    "best_alpha"
   ]
  },
  {
   "cell_type": "code",
   "execution_count": null,
   "id": "43fdf204",
   "metadata": {},
   "outputs": [],
   "source": []
  }
 ],
 "metadata": {
  "kernelspec": {
   "display_name": "Python 3 (ipykernel)",
   "language": "python",
   "name": "python3"
  },
  "language_info": {
   "codemirror_mode": {
    "name": "ipython",
    "version": 3
   },
   "file_extension": ".py",
   "mimetype": "text/x-python",
   "name": "python",
   "nbconvert_exporter": "python",
   "pygments_lexer": "ipython3",
   "version": "3.9.13"
  }
 },
 "nbformat": 4,
 "nbformat_minor": 5
}
